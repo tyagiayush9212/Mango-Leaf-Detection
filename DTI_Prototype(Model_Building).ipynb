{
  "cells": [
    {
      "cell_type": "markdown",
      "metadata": {
        "id": "view-in-github",
        "colab_type": "text"
      },
      "source": [
        "<a href=\"https://colab.research.google.com/github/tyagiayush9212/Mango-Leaf-Detection/blob/main/DTI_Prototype(Model_Building).ipynb\" target=\"_parent\"><img src=\"https://colab.research.google.com/assets/colab-badge.svg\" alt=\"Open In Colab\"/></a>"
      ]
    },
    {
      "cell_type": "markdown",
      "metadata": {
        "id": "LZxJmLGOFuz4"
      },
      "source": [
        "#Mango Leaf disease detection using CNN\n",
        "\n"
      ]
    },
    {
      "cell_type": "markdown",
      "metadata": {
        "id": "Y_57_OHMPpYE"
      },
      "source": []
    },
    {
      "cell_type": "code",
      "execution_count": null,
      "metadata": {
        "colab": {
          "base_uri": "https://localhost:8080/"
        },
        "id": "cwRakmIWFsMV",
        "outputId": "ac0b105b-f81d-4f5f-cc23-6cb8dfcbb730"
      },
      "outputs": [
        {
          "name": "stdout",
          "output_type": "stream",
          "text": [
            "Drive already mounted at /content/drive; to attempt to forcibly remount, call drive.mount(\"/content/drive\", force_remount=True).\n"
          ]
        }
      ],
      "source": [
        "import numpy as np\n",
        "import pandas as pd\n",
        "from google.colab import drive\n",
        "import matplotlib.pyplot as plt\n",
        "import glob\n",
        "import cv2\n",
        "import os\n",
        "import matplotlib.image as mpimg\n",
        "import random\n",
        "from sklearn import preprocessing\n",
        "import tensorflow.keras as keras\n",
        "import tensorflow as tf\n",
        "from keras.preprocessing.image import ImageDataGenerator\n",
        "from tensorflow.keras.utils import to_categorical\n",
        "drive.mount('/content/drive')\n",
        "\n"
      ]
    },
    {
      "cell_type": "markdown",
      "metadata": {
        "id": "JQ1NPP34FyxI"
      },
      "source": [
        "#Image augmentation and Pre-processing\n"
      ]
    },
    {
      "cell_type": "code",
      "execution_count": null,
      "metadata": {
        "id": "bpfTe5yw7eLv"
      },
      "outputs": [],
      "source": [
        "directory_root = \"/content/drive/MyDrive/Mango-Leaf-Dataset\""
      ]
    },
    {
      "cell_type": "code",
      "execution_count": null,
      "metadata": {
        "id": "vLlE0V_ZnBKk"
      },
      "outputs": [],
      "source": [
        "SIZE = 256\n",
        "\n",
        "#Using seeds for train,test and validation models to prevent randomness and shuffling\n",
        "\n",
        "SEED_TRAINING = 121\n",
        "SEED_TESTING = 197\n",
        "SEED_VALIDATION = 164\n",
        "\n",
        "CHANNELS = 3\n",
        "n_classes = 3\n",
        "#Epoch implies one complete pass of the training dataset through the algorithm.\n",
        "EPOCHS = 50\n",
        "\n",
        "BATCH_SIZE = 16   #Number of training examples utilized in one iteration\n",
        "input_shape = (SIZE , SIZE , CHANNELS)\n",
        "\n",
        "IMG_SHAPE = 50"
      ]
    },
    {
      "cell_type": "code",
      "execution_count": null,
      "metadata": {
        "colab": {
          "base_uri": "https://localhost:8080/"
        },
        "id": "PPf8oZQCncjB",
        "outputId": "9d42f596-1668-4b6d-ed80-a89daba41ef8"
      },
      "outputs": [
        {
          "name": "stdout",
          "output_type": "stream",
          "text": [
            "Found 4000 images belonging to 8 classes.\n"
          ]
        }
      ],
      "source": [
        "from tensorflow.keras.preprocessing.image import ImageDataGenerator\n",
        "image_gen_train = ImageDataGenerator(\n",
        "    rescale = 1./255,\n",
        "    rotation_range = 40,\n",
        "    width_shift_range = 0.2,\n",
        "    height_shift_range = 0.2,\n",
        "    shear_range = 0.2,\n",
        "    zoom_range = 0.2,\n",
        "    horizontal_flip = True,\n",
        "    fill_mode = 'nearest',\n",
        "    featurewise_center = True,     #standardization\n",
        "    featurewise_std_normalization = True\n",
        ")\n",
        "\n",
        "train_data_gen = image_gen_train.flow_from_directory(batch_size=BATCH_SIZE,\n",
        "                                                     directory=directory_root,\n",
        "                                                     shuffle=True,\n",
        "                                                     color_mode = 'rgb',\n",
        "                                                     target_size=(IMG_SHAPE,IMG_SHAPE),\n",
        "                                                     class_mode='binary')\n",
        "\n",
        "#Identifies classes of images in the dataset\n"
      ]
    },
    {
      "cell_type": "code",
      "execution_count": null,
      "metadata": {
        "colab": {
          "base_uri": "https://localhost:8080/"
        },
        "id": "w8kwKTlFnVxg",
        "outputId": "5cad1ebc-4fa8-4f92-fd40-81b870039ae6"
      },
      "outputs": [
        {
          "data": {
            "text/plain": [
              "{'Anthracnose': 0,\n",
              " 'Bacterial Canker': 1,\n",
              " 'Cutting Weevil': 2,\n",
              " 'Die Back': 3,\n",
              " 'Gall Midge': 4,\n",
              " 'Healthy': 5,\n",
              " 'Powdery Mildew': 6,\n",
              " 'Sooty Mould': 7}"
            ]
          },
          "execution_count": 5,
          "metadata": {},
          "output_type": "execute_result"
        }
      ],
      "source": [
        "#Indexing the classes present:\n",
        "train_data_gen.class_indices"
      ]
    },
    {
      "cell_type": "code",
      "execution_count": null,
      "metadata": {
        "id": "Gv3gJEaypmyY"
      },
      "outputs": [],
      "source": [
        "#Function for data (image) visualization using matplotlib\n",
        "def plotImages(images_arr):\n",
        "  fig , axes = plt.subplots(1,5,figsize=(20,20))\n",
        "  axes = axes.flatten()\n",
        "  for img, ax in zip(images_arr,axes):\n",
        "    ax.imshow(img)\n",
        "  plt.tight_layout()\n",
        "  plt.show()"
      ]
    },
    {
      "cell_type": "code",
      "execution_count": null,
      "metadata": {
        "colab": {
          "base_uri": "https://localhost:8080/",
          "height": 330
        },
        "id": "2hjKo5NQp621",
        "outputId": "51442e50-3b9f-46c2-a6f2-e49afefee3e6"
      },
      "outputs": [
        {
          "name": "stderr",
          "output_type": "stream",
          "text": [
            "/usr/local/lib/python3.10/dist-packages/keras/src/preprocessing/image.py:1862: UserWarning: This ImageDataGenerator specifies `featurewise_center`, but it hasn't been fit on any training data. Fit it first by calling `.fit(numpy_data)`.\n",
            "  warnings.warn(\n",
            "/usr/local/lib/python3.10/dist-packages/keras/src/preprocessing/image.py:1872: UserWarning: This ImageDataGenerator specifies `featurewise_std_normalization`, but it hasn't been fit on any training data. Fit it first by calling `.fit(numpy_data)`.\n",
            "  warnings.warn(\n"
          ]
        },
        {
          "data": {
            "image/png": "[encoded data removed]",
            "text/plain": [
              "<Figure size 2000x2000 with 5 Axes>"
            ]
          },
          "metadata": {},
          "output_type": "display_data"
        }
      ],
      "source": [
        "import matplotlib.pyplot as plt\n",
        "augmented_images = [train_data_gen[0][0][0] for i in range(5)]\n",
        "plotImages(augmented_images)"
      ]
    },
    {
      "cell_type": "code",
      "execution_count": null,
      "metadata": {
        "id": "rGuMH8mBqSeM"
      },
      "outputs": [],
      "source": [
        "# augmenting images for validation test and train models:\n",
        "validation_datagen = ImageDataGenerator(rescale = 1./255)\n",
        "test_datagen = ImageDataGenerator(rescale = 1./255)"
      ]
    },
    {
      "cell_type": "code",
      "execution_count": null,
      "metadata": {
        "colab": {
          "base_uri": "https://localhost:8080/"
        },
        "id": "3MYB09Zuq3fX",
        "outputId": "b32ceccf-7991-4763-baf6-53a624154089"
      },
      "outputs": [
        {
          "name": "stdout",
          "output_type": "stream",
          "text": [
            "Found 4000 files belonging to 8 classes.\n",
            "Found 4000 files belonging to 8 classes.\n",
            "Found 4000 files belonging to 8 classes.\n"
          ]
        }
      ],
      "source": [
        "#Using tensorflow:\n",
        "train_generator = tf.keras.utils.image_dataset_from_directory(\n",
        "    directory = \"/content/drive/MyDrive/Mango-Leaf-Dataset\",\n",
        "    #This is the input directory of our dataset\n",
        "    batch_size = BATCH_SIZE, #Resizing image to 64x64\n",
        "\n",
        "    color_mode = 'rgb'\n",
        ")\n",
        "validation_generator =  tf.keras.utils.image_dataset_from_directory(\n",
        "    directory = \"/content/drive/MyDrive/Mango-Leaf-Dataset\",\n",
        "    batch_size = BATCH_SIZE,\n",
        "\n",
        "    color_mode = 'rgb'\n",
        ")\n",
        "test_generator = tf.keras.utils.image_dataset_from_directory(\n",
        "    directory = \"/content/drive/MyDrive/Mango-Leaf-Dataset\",\n",
        "    batch_size = BATCH_SIZE,\n",
        "\n",
        "    color_mode = 'rgb'\n",
        ")\n"
      ]
    },
    {
      "cell_type": "markdown",
      "metadata": {
        "id": "LM9Ya6vXsDy4"
      },
      "source": [
        "#Creating the model\n"
      ]
    },
    {
      "cell_type": "code",
      "execution_count": null,
      "metadata": {
        "id": "HHAw89XbrocZ"
      },
      "outputs": [],
      "source": [
        "import keras\n",
        "from keras.models import Sequential\n",
        "from keras.layers import Dense, Dropout, Flatten\n",
        "from keras.layers import Conv2D, MaxPooling2D"
      ]
    },
    {
      "cell_type": "code",
      "execution_count": null,
      "metadata": {
        "id": "An6mZGiir6Tr"
      },
      "outputs": [],
      "source": [
        "from keras import Sequential\n",
        "from keras import layers\n",
        "\n",
        "model = Sequential([\n",
        "    layers.Rescaling(1./255),\n",
        "    layers.Conv2D(16,3,padding = 'same', activation='relu'),\n",
        "    layers.MaxPooling2D(),\n",
        "\n",
        "    layers.Conv2D(32,3,padding = 'same', activation='relu'),\n",
        "    layers.MaxPooling2D(),\n",
        "    layers.Dropout(0.25),\n",
        "\n",
        "    layers.Conv2D(64,3,padding = 'same', activation='relu'),\n",
        "    layers.MaxPooling2D(),\n",
        "    layers.Dropout(0.25),\n",
        "\n",
        "    layers.Conv2D(128,3,padding = 'same', activation = 'relu'),\n",
        "    layers.MaxPooling2D(),\n",
        "    layers.Dropout(0.25),\n",
        "\n",
        "    layers.Flatten(),\n",
        "    layers.Dense(256,activation='relu'),\n",
        "\n",
        "    #Implementing final output as probability of the present 8 classes and amongst them the maximum one will be selected which closely relates to the disease\n",
        "\n",
        "    layers.Dense(8, activation='softmax')\n",
        "\n",
        "])"
      ]
    },
    {
      "cell_type": "code",
      "execution_count": null,
      "metadata": {
        "id": "jTtZtePGt_Ay"
      },
      "outputs": [],
      "source": [
        "#Model Training Blueprint\n",
        "model.compile(loss=\"sparse_categorical_crossentropy\",optimizer=\"adam\",metrics=[\"accuracy\"])\n",
        "#\"accuracy\" measures how often the model's predictions match the actual labels during training.\n"
      ]
    },
    {
      "cell_type": "code",
      "execution_count": null,
      "metadata": {
        "colab": {
          "background_save": true,
          "base_uri": "https://localhost:8080/"
        },
        "id": "3wY0TP06vDKs",
        "outputId": "93550616-305e-4c95-8085-bcb7b3a49820"
      },
      "outputs": [
        {
          "name": "stdout",
          "output_type": "stream",
          "text": [
            "Epoch 1/10\n",
            "250/250 [==============================] - 566s 2s/step - loss: 2.0361 - accuracy: 0.2030 - val_loss: 1.1641 - val_accuracy: 0.5870\n",
            "Epoch 2/10\n",
            "250/250 [==============================] - 523s 2s/step - loss: 0.8368 - accuracy: 0.6810 - val_loss: 0.6489 - val_accuracy: 0.7520\n",
            "Epoch 3/10\n",
            "250/250 [==============================] - 510s 2s/step - loss: 0.4860 - accuracy: 0.8257 - val_loss: 0.5167 - val_accuracy: 0.7985\n",
            "Epoch 4/10\n",
            "250/250 [==============================] - 514s 2s/step - loss: 0.4123 - accuracy: 0.8593 - val_loss: 0.2643 - val_accuracy: 0.9112\n",
            "Epoch 5/10\n",
            "250/250 [==============================] - 540s 2s/step - loss: 0.3027 - accuracy: 0.8990 - val_loss: 0.1610 - val_accuracy: 0.9597\n",
            "Epoch 6/10\n",
            "250/250 [==============================] - 531s 2s/step - loss: 0.2532 - accuracy: 0.9162 - val_loss: 0.1690 - val_accuracy: 0.9463\n",
            "Epoch 7/10\n",
            "250/250 [==============================] - 523s 2s/step - loss: 0.2071 - accuracy: 0.9265 - val_loss: 0.1251 - val_accuracy: 0.9588\n",
            "Epoch 8/10\n",
            "250/250 [==============================] - 522s 2s/step - loss: 0.1545 - accuracy: 0.9455 - val_loss: 0.0957 - val_accuracy: 0.9688\n",
            "Epoch 9/10\n",
            "250/250 [==============================] - 525s 2s/step - loss: 0.1755 - accuracy: 0.9402 - val_loss: 0.1082 - val_accuracy: 0.9628\n",
            "Epoch 10/10\n",
            "250/250 [==============================] - 538s 2s/step - loss: 0.1148 - accuracy: 0.9607 - val_loss: 0.0891 - val_accuracy: 0.9672\n"
          ]
        }
      ],
      "source": [
        "#Training our model:\n",
        "history = model.fit(train_generator, batch_size = 32, validation_batch_size = 32, validation_data=validation_generator,epochs = 10)\n"
      ]
    },
    {
      "cell_type": "code",
      "execution_count": null,
      "metadata": {
        "colab": {
          "base_uri": "https://localhost:8080/",
          "height": 141
        },
        "id": "RB9C3B9KyWTw",
        "outputId": "53315766-b2b2-410a-bbbc-3a5b076af761"
      },
      "outputs": [
        {
          "output_type": "error",
          "ename": "NameError",
          "evalue": "name 'model' is not defined",
          "traceback": [
            "\u001b[0;31m---------------------------------------------------------------------------\u001b[0m",
            "\u001b[0;31mNameError\u001b[0m                                 Traceback (most recent call last)",
            "\u001b[0;32m<ipython-input-1-ea52572c1060>\u001b[0m in \u001b[0;36m<cell line: 1>\u001b[0;34m()\u001b[0m\n\u001b[0;32m----> 1\u001b[0;31m \u001b[0mmodel\u001b[0m\u001b[0;34m.\u001b[0m\u001b[0msummary\u001b[0m\u001b[0;34m(\u001b[0m\u001b[0;34m)\u001b[0m    \u001b[0;31m#Final accuracy : 97.70%\u001b[0m\u001b[0;34m\u001b[0m\u001b[0;34m\u001b[0m\u001b[0m\n\u001b[0m",
            "\u001b[0;31mNameError\u001b[0m: name 'model' is not defined"
          ]
        }
      ],
      "source": [
        "model.summary()    #Final accuracy : 97.70%"
      ]
    },
    {
      "cell_type": "code",
      "execution_count": null,
      "metadata": {
        "colab": {
          "background_save": true
        },
        "id": "yGyquBwHKKP6",
        "outputId": "bfecc88f-7100-4f29-ba9c-31506d293f43"
      },
      "outputs": [
        {
          "name": "stderr",
          "output_type": "stream",
          "text": [
            "/usr/local/lib/python3.10/dist-packages/keras/src/engine/training.py:3103: UserWarning: You are saving your model as an HDF5 file via `model.save()`. This file format is considered legacy. We recommend using instead the native Keras format, e.g. `model.save('my_model.keras')`.\n",
            "  saving_api.save_model(\n"
          ]
        }
      ],
      "source": [
        "#Saving the trained model:\n",
        "model.save('trained_model.h5')"
      ]
    },
    {
      "cell_type": "code",
      "execution_count": null,
      "metadata": {
        "colab": {
          "background_save": true
        },
        "id": "KKDWk2pZKPjW",
        "outputId": "5e749cad-51f3-4186-d9a4-50caf19b11cc"
      },
      "outputs": [
        {
          "name": "stderr",
          "output_type": "stream",
          "text": [
            "<ipython-input-16-4f114a9875b7>:3: UserWarning: `Model.evaluate_generator` is deprecated and will be removed in a future version. Please use `Model.evaluate`, which supports generators.\n",
            "  acc = model.evaluate_generator(validation_generator)[1]\n"
          ]
        },
        {
          "name": "stdout",
          "output_type": "stream",
          "text": [
            "The accuracy of your trained model is: 96.72499895095825%\n"
          ]
        }
      ],
      "source": [
        "from keras.models import load_model\n",
        "model = load_model('/content/trained_model.h5')\n",
        "acc = model.evaluate_generator(validation_generator)[1]\n",
        "print(f\"The accuracy of your trained model is: {acc*100}%\")"
      ]
    },
    {
      "cell_type": "markdown",
      "metadata": {
        "id": "0PScTBwPdSkH"
      },
      "source": [
        "#Predicting the disease (Under-Development)\n"
      ]
    },
    {
      "cell_type": "code",
      "execution_count": null,
      "metadata": {
        "colab": {
          "background_save": true
        },
        "id": "ij6ZcOIgK_u-"
      },
      "outputs": [],
      "source": [
        "from keras.preprocessing.image import img_to_array , load_img\n",
        "from keras.applications.vgg19 import VGG19, preprocess_input, decode_predictions\n",
        "\n",
        "reference = dict(zip(list(train_data_gen.class_indices.values()) , list(train_data_gen.class_indices.keys())))\n",
        "def predict_disease(path):\n",
        "  img = load_img(path, target_size = (256,256))\n",
        "  i = img_to_array(img)\n",
        "  im = preprocess_input(i)\n",
        "  img = np.expand_dims(im, axis = 0)\n",
        "  pred = np.argmax(model.predict(img))\n",
        "  print(f\" the image belongs to { reference[pred] }\")"
      ]
    },
    {
      "cell_type": "code",
      "execution_count": null,
      "metadata": {
        "colab": {
          "base_uri": "https://localhost:8080/",
          "height": 158
        },
        "id": "yZjd6oYxgKy3",
        "outputId": "0a01bb10-c425-464b-c1ee-1f70081d41ed"
      },
      "outputs": [
        {
          "output_type": "error",
          "ename": "NameError",
          "evalue": "name 'predict_disease' is not defined",
          "traceback": [
            "\u001b[0;31m---------------------------------------------------------------------------\u001b[0m",
            "\u001b[0;31mNameError\u001b[0m                                 Traceback (most recent call last)",
            "\u001b[0;32m<ipython-input-2-0a7f41dbe4e0>\u001b[0m in \u001b[0;36m<cell line: 2>\u001b[0;34m()\u001b[0m\n\u001b[1;32m      1\u001b[0m \u001b[0mpath\u001b[0m \u001b[0;34m=\u001b[0m \u001b[0;34m'/content/drive/MyDrive/Mango-Leaf-Dataset/Gall Midge/IMG_20211106_161058 (Custom).jpg'\u001b[0m\u001b[0;34m\u001b[0m\u001b[0;34m\u001b[0m\u001b[0m\n\u001b[0;32m----> 2\u001b[0;31m \u001b[0mpredict_disease\u001b[0m\u001b[0;34m(\u001b[0m\u001b[0mpath\u001b[0m\u001b[0;34m)\u001b[0m\u001b[0;34m\u001b[0m\u001b[0;34m\u001b[0m\u001b[0m\n\u001b[0m",
            "\u001b[0;31mNameError\u001b[0m: name 'predict_disease' is not defined"
          ]
        }
      ],
      "source": [
        "path = '/content/drive/MyDrive/Mango-Leaf-Dataset/Gall Midge/IMG_20211106_161058 (Custom).jpg'\n",
        "predict_disease(path)\n"
      ]
    },
    {
      "cell_type": "code",
      "execution_count": null,
      "metadata": {
        "colab": {
          "background_save": true
        },
        "id": "flhwK21eieGy"
      },
      "outputs": [],
      "source": []
    }
  ],
  "metadata": {
    "colab": {
      "provenance": [],
      "include_colab_link": true
    },
    "kernelspec": {
      "display_name": "Python 3",
      "name": "python3"
    },
    "language_info": {
      "name": "python"
    }
  },
  "nbformat": 4,
  "nbformat_minor": 0
}